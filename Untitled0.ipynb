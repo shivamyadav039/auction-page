{
  "nbformat": 4,
  "nbformat_minor": 0,
  "metadata": {
    "colab": {
      "provenance": [],
      "authorship_tag": "ABX9TyN5I19+3LJtv5sxla0DXsAA",
      "include_colab_link": true
    },
    "kernelspec": {
      "name": "python3",
      "display_name": "Python 3"
    },
    "language_info": {
      "name": "python"
    }
  },
  "cells": [
    {
      "cell_type": "markdown",
      "metadata": {
        "id": "view-in-github",
        "colab_type": "text"
      },
      "source": [
        "<a href=\"https://colab.research.google.com/github/shivamyadav039/auction-page/blob/main/Untitled0.ipynb\" target=\"_parent\"><img src=\"https://colab.research.google.com/assets/colab-badge.svg\" alt=\"Open In Colab\"/></a>"
      ]
    },
    {
      "cell_type": "code",
      "execution_count": null,
      "metadata": {
        "colab": {
          "base_uri": "https://localhost:8080/"
        },
        "id": "VoB7ikzcDAV-",
        "outputId": "8df5150d-428f-4967-f702-e3e8b1a95310"
      },
      "outputs": [
        {
          "output_type": "stream",
          "name": "stdout",
          "text": [
            "Array 1: [1 2 3 4]\n",
            "Array 2: [2 5 3 7]\n",
            "49\n",
            "Dot Product: 49\n",
            "49\n"
          ]
        }
      ],
      "source": [
        "import numpy as np\n",
        "\n",
        "arr1 = np.array([1, 2, 3, 4])\n",
        "arr2 = np.array([2, 5, 3, 7])\n",
        "\n",
        "print(\"Array 1:\", arr1)\n",
        "print(\"Array 2:\", arr2)\n",
        "c= arr1@arr2\n",
        "print(c)\n",
        "\n",
        "# Calculate the dot product\n",
        "arr = arr1.dot(arr2)\n",
        "\n",
        "print(\"Dot Product:\", arr)"
      ]
    },
    {
      "cell_type": "code",
      "source": [],
      "metadata": {
        "id": "MCSIMLENSjuh"
      },
      "execution_count": null,
      "outputs": []
    },
    {
      "cell_type": "code",
      "source": [
        "# creating 3d array\n",
        "import numpy as np\n",
        "arr1 = np.array([[1,2,3],[4,5,6],[7,8,5]])\n",
        "print(arr1)"
      ],
      "metadata": {
        "colab": {
          "base_uri": "https://localhost:8080/"
        },
        "id": "qR36yfZnEQdk",
        "outputId": "25966aab-5613-425c-b881-cf4c5be1debb"
      },
      "execution_count": null,
      "outputs": [
        {
          "output_type": "stream",
          "name": "stdout",
          "text": [
            "[[1 2 3]\n",
            " [4 5 6]\n",
            " [7 8 5]]\n"
          ]
        }
      ]
    },
    {
      "cell_type": "code",
      "source": [
        "#create a vector\n",
        "from numpy import array\n",
        "v = array([1,2,3])\n",
        "print(v)"
      ],
      "metadata": {
        "colab": {
          "base_uri": "https://localhost:8080/"
        },
        "id": "xA37DVQbE97_",
        "outputId": "8b837b9d-78ff-439b-d29d-88c31a05c9f5"
      },
      "execution_count": null,
      "outputs": [
        {
          "output_type": "stream",
          "name": "stdout",
          "text": [
            "[1 2 3]\n"
          ]
        }
      ]
    },
    {
      "cell_type": "code",
      "source": [
        "# add vector\n",
        "from numpy import array\n",
        "a = array([1,2,3])\n",
        "#print(a)\n",
        "b = array([2,3,4])\n",
        "c=a+b\n",
        "print(c)"
      ],
      "metadata": {
        "colab": {
          "base_uri": "https://localhost:8080/"
        },
        "id": "qML3zU3JFZqc",
        "outputId": "8b662fe3-0f96-40e6-d314-b3fd601b7506"
      },
      "execution_count": null,
      "outputs": [
        {
          "output_type": "stream",
          "name": "stdout",
          "text": [
            "[3 5 7]\n"
          ]
        }
      ]
    },
    {
      "cell_type": "code",
      "source": [
        "#subtract vector\n",
        "from numpy import array\n",
        "a = array([1,2,3,4,5,6,7])\n",
        "b= array([0.5,1,0.7,0.8,0.9,2,2])\n",
        "c= a-b\n",
        "print(c)"
      ],
      "metadata": {
        "colab": {
          "base_uri": "https://localhost:8080/"
        },
        "id": "OPkDnXxOF-b3",
        "outputId": "9de34d7b-1ed0-4e52-f805-fcf115eeef4c"
      },
      "execution_count": null,
      "outputs": [
        {
          "output_type": "stream",
          "name": "stdout",
          "text": [
            "[0.5 1.  2.3 3.2 4.1 4.  5. ]\n"
          ]
        }
      ]
    },
    {
      "cell_type": "code",
      "source": [
        "import numpy as np\n",
        "from numpy.linalg import norm\n",
        "#This import the norm function from the numpy.linalg(linear algebra) module\n",
        "\n",
        "v = np.array([3,4])\n",
        "#calculate the l2 norm\n",
        "#here norm(v) computes the l2 norm of the vector v.the l2 norm is defined as the square root of the sum of the square of the vector\n",
        "\n",
        "l2 = norm(v)\n",
        "print(l2)"
      ],
      "metadata": {
        "colab": {
          "base_uri": "https://localhost:8080/"
        },
        "id": "gJb9OzubGoVr",
        "outputId": "f7554fc1-83a3-4f7e-e9aa-4d14387a119d"
      },
      "execution_count": null,
      "outputs": [
        {
          "output_type": "stream",
          "name": "stdout",
          "text": [
            "5.0\n"
          ]
        }
      ]
    },
    {
      "cell_type": "code",
      "source": [
        "#Cosine similarity\n",
        "import numpy as np\n",
        "import matplotlib.pyplot\n",
        "\n",
        "#function to calcululate cosine similarity\n",
        "\n",
        "def cosine_similarity(u,v):\n",
        "  dot_product = np.dot(u,v)\n",
        "  norm_u = np.linalg.norm(u)\n",
        "  norm_v = np.linalg.norm(v)\n",
        "  return dot_product /(norm_u* norm_v)\n",
        "\n",
        "# Example vectors\n",
        "u = np.array([1, 2, 3])\n",
        "v = np.array([4, 5, 6])\n",
        "\n",
        "# Calculate cosine similarity\n",
        "similarity = cosine_similarity(u, v)\n",
        "print(\"Cosine Similarity:\", similarity)"
      ],
      "metadata": {
        "colab": {
          "base_uri": "https://localhost:8080/"
        },
        "id": "OqwawLlUILjK",
        "outputId": "cb020ad5-f204-486e-e4a7-23adedbaf58f"
      },
      "execution_count": null,
      "outputs": [
        {
          "output_type": "stream",
          "name": "stdout",
          "text": [
            "Cosine Similarity: 0.9746318461970762\n"
          ]
        }
      ]
    },
    {
      "cell_type": "code",
      "source": [
        "\n",
        "import numpy as np\n",
        "\n",
        "a = np.array([1, 0, 1])\n",
        "b = np.array([1, 0, 1])\n",
        "c = 2\n",
        "\n",
        "net = np.dot(a, b)\n",
        "\n",
        "if net >= c:\n",
        "    print(1)\n",
        "else:\n",
        "    print(0)"
      ],
      "metadata": {
        "colab": {
          "base_uri": "https://localhost:8080/"
        },
        "id": "RZsGI8CWSlRt",
        "outputId": "d15f6432-34cd-4a50-e524-d327685fd78a"
      },
      "execution_count": 5,
      "outputs": [
        {
          "output_type": "stream",
          "name": "stdout",
          "text": [
            "0\n"
          ]
        }
      ]
    },
    {
      "cell_type": "code",
      "source": [
        "import numpy as np\n",
        "\n",
        "# Your existing code\n",
        "a = np.array([1, 0, 1])\n",
        "b = np.array([1, 0, 1])\n",
        "c = 2\n",
        "\n",
        "net = np.dot(a, b)\n",
        "\n",
        "if net >= c:\n",
        "    print(1)\n",
        "else:\n",
        "    print(0)\n",
        "\n",
        "# OR Gate Truth Table\n",
        "print(\"\\nOR Gate Truth Table:\")\n",
        "print(\"A | B | Output\")\n",
        "print(\"-------------\")\n",
        "for A in [0, 1]:\n",
        "    for B in [0, 1]:\n",
        "        output = A or B  # OR gate logic\n",
        "        print(f\"{A} | {B} | {output}\")"
      ],
      "metadata": {
        "id": "NlqxFH1wb-bJ",
        "outputId": "c91512a0-99be-457a-d3ba-85b064b8ca63",
        "colab": {
          "base_uri": "https://localhost:8080/"
        }
      },
      "execution_count": 6,
      "outputs": [
        {
          "output_type": "stream",
          "name": "stdout",
          "text": [
            "1\n",
            "\n",
            "OR Gate Truth Table:\n",
            "A | B | Output\n",
            "-------------\n",
            "0 | 0 | 0\n",
            "0 | 1 | 1\n",
            "1 | 0 | 1\n",
            "1 | 1 | 1\n"
          ]
        }
      ]
    }
  ]
}